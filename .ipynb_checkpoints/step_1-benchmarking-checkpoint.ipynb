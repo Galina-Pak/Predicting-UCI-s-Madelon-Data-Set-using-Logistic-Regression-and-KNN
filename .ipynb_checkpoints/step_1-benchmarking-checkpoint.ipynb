{
 "cells": [
  {
   "cell_type": "markdown",
   "metadata": {},
   "source": [
    "# Step 1 - Benchmarking"
   ]
  },
  {
   "cell_type": "markdown",
   "metadata": {},
   "source": [
    "### Domain and Data\n",
    "\n",
    "This project will be working with UCI's Madelon data set. The data is completly artifical, randomly labeled +1 or -1 with 500 features. Of these 500 features, 20 of them are \"real\" features and the remaining 480 are \"probes\" which add noise to the data. Of the 20 real features, there are 5 informative features, and the remaining 15 are linear combinations of the 5 informative features to add additional noise. The order of the features and patters were randomized.\n",
    "\n",
    "### Problem Statement\n",
    "\n",
    "The goal of this notebook is to provide a benchmark for classifying this data using a simple model.\n",
    "\n",
    "### Solution Statement\n",
    "\n",
    "To achieve this benchmark, I will run a logistic regression model with no feature selection and little (C=10000) regularization. \n",
    "\n",
    "### Metric\n",
    "\n",
    "I will use the standard classifcation metric, \"accuracy\".  IE, what percentage did the model label the the data points correctly. I will Also look at false positives, and AUC as some deeper metrics to further provide some context as I make more complex models.\n",
    "\n",
    "### Benchmark\n",
    "\n",
    "This notebook is the creation of the benchmark. However, one would hope that this benchmark model has a higher prediction rate than 50%, since this is a binary classification problem. "
   ]
  },
  {
   "cell_type": "markdown",
   "metadata": {},
   "source": [
    "## Implementation\n",
    "\n",
    "Implement the following code pipeline using the functions you write in `lib/project_5.py`."
   ]
  },
  {
   "cell_type": "markdown",
   "metadata": {},
   "source": [
    "<img src=\"assets/benchmarking.png\" width=\"600px\">"
   ]
  },
  {
   "cell_type": "code",
   "execution_count": 1,
   "metadata": {
    "collapsed": false
   },
   "outputs": [],
   "source": [
    "import pandas as pd\n",
    "from sklearn.preprocessing import StandardScaler\n",
    "from sklearn.linear_model import LogisticRegression\n",
    "from lib.project_5 import load_data_from_database, make_data_dict, general_transformer, general_model"
   ]
  },
  {
   "cell_type": "code",
   "execution_count": 2,
   "metadata": {
    "collapsed": false
   },
   "outputs": [],
   "source": [
    "#preparing data for wrapper functions\n",
    "data = load_data_from_database()\n",
    "del data['index']\n",
    "y = data['label']\n",
    "del data['label']\n",
    "X = data"
   ]
  },
  {
   "cell_type": "code",
   "execution_count": 3,
   "metadata": {
    "collapsed": true
   },
   "outputs": [],
   "source": [
    "#creating a data dictionary\n",
    "data_dict = make_data_dict(X,y)"
   ]
  },
  {
   "cell_type": "code",
   "execution_count": 4,
   "metadata": {
    "collapsed": false
   },
   "outputs": [],
   "source": [
    "#standardizing the dictionary\n",
    "data_dict_standard = general_transformer(StandardScaler(),data_dict)"
   ]
  },
  {
   "cell_type": "code",
   "execution_count": 5,
   "metadata": {
    "collapsed": false
   },
   "outputs": [],
   "source": [
    "#running logistic regression\n",
    "data_dict_standard_logisitic = general_model(LogisticRegression(penalty = 'l2',C = 10000,solver='liblinear',fit_intercept=True),data_dict_standard)"
   ]
  },
  {
   "cell_type": "code",
   "execution_count": 6,
   "metadata": {
    "collapsed": false
   },
   "outputs": [
    {
     "data": {
      "text/plain": [
       "[0.80746268656716413, 0.53787878787878785]"
      ]
     },
     "execution_count": 6,
     "metadata": {},
     "output_type": "execute_result"
    }
   ],
   "source": [
    "#Looking at scores\n",
    "data_dict_standard_logisitic['scores']"
   ]
  },
  {
   "cell_type": "markdown",
   "metadata": {
    "collapsed": false
   },
   "source": [
    "A training score of 80% and a testing score of 0.53 as this project's benchmark. My first impression is that the logistic regression is overfit."
   ]
  },
  {
   "cell_type": "markdown",
   "metadata": {},
   "source": [
    "Now to plot confusion matrix"
   ]
  },
  {
   "cell_type": "code",
   "execution_count": 7,
   "metadata": {
    "collapsed": true
   },
   "outputs": [],
   "source": [
    "from sklearn.metrics import confusion_matrix\n",
    "confusion = confusion_matrix(data_dict_standard_logisitic['y_test'],data_dict_standard_logisitic['prediction'])"
   ]
  },
  {
   "cell_type": "code",
   "execution_count": 13,
   "metadata": {
    "collapsed": true
   },
   "outputs": [],
   "source": [
    "import itertools\n",
    "import matplotlib.pyplot as plt\n",
    "import numpy as np\n",
    "%matplotlib inline\n",
    "def plot_confusion_matrix(cm, classes,\n",
    "                          normalize=False,\n",
    "                          title='Confusion matrix',\n",
    "                          cmap=plt.cm.Blues):\n",
    "    \"\"\"\n",
    "    This function prints and plots the confusion matrix.\n",
    "    Normalization can be applied by setting `normalize=True`.\n",
    "    \"\"\"\n",
    "    plt.imshow(cm, interpolation='nearest', cmap=cmap)\n",
    "    plt.title(title)\n",
    "    plt.colorbar()\n",
    "    tick_marks = np.arange(len(classes))\n",
    "    plt.xticks(tick_marks, classes, rotation=45)\n",
    "    plt.yticks(tick_marks, classes)\n",
    "\n",
    "    if normalize:\n",
    "        cm = cm.astype('float') / cm.sum(axis=1)[:, np.newaxis]\n",
    "        print(\"Normalized confusion matrix\")\n",
    "    else:\n",
    "        print('Confusion matrix, without normalization')\n",
    "\n",
    "    print(cm)\n",
    "\n",
    "    thresh = cm.max() / 2.\n",
    "    for i, j in itertools.product(range(cm.shape[0]), range(cm.shape[1])):\n",
    "        plt.text(j, i, cm[i, j],\n",
    "                 horizontalalignment=\"center\",\n",
    "                 color=\"black\" if cm[i, j] > thresh else \"black\")\n",
    "\n",
    "    plt.tight_layout()\n",
    "    plt.ylabel('True label')\n",
    "    plt.xlabel('Predicted label')"
   ]
  },
  {
   "cell_type": "code",
   "execution_count": 20,
   "metadata": {
    "collapsed": false
   },
   "outputs": [
    {
     "name": "stdout",
     "output_type": "stream",
     "text": [
      "Normalized confusion matrix Benchmark\n",
      "[[ 0.52012384  0.47987616]\n",
      " [ 0.44510386  0.55489614]]\n"
     ]
    },
    {
     "data": {
      "image/png": "[encoded data removed]",
      "text/plain": [
       "<matplotlib.figure.Figure at 0x120ace810>"
      ]
     },
     "metadata": {},
     "output_type": "display_data"
    }
   ],
   "source": [
    "plot_confusion_matrix(confusion, classes=['1','-1'], normalize=True,\n",
    "                      title='Benchmark Confusion Matrix')\n",
    "#plt.savefig('benchmark.png', bbox_inches='tight')"
   ]
  },
  {
   "cell_type": "code",
   "execution_count": 21,
   "metadata": {
    "collapsed": true
   },
   "outputs": [],
   "source": [
    "#finding the area under the roc curve\n",
    "from sklearn.metrics import roc_curve, auc\n",
    "# roc_curve returns the false positive rate and true positive rates as the threshold changes\n",
    "# takes in the y and the predicted probabilities of the positive class from your model.\n",
    "fpr_lr, tpr_lr, _ = roc_curve(data_dict_standard_logisitic['y_test'],data_dict_standard_logisitic['prediction'])\n",
    "roc_auc_lr = auc(fpr_lr, tpr_lr)"
   ]
  },
  {
   "cell_type": "code",
   "execution_count": 22,
   "metadata": {
    "collapsed": false
   },
   "outputs": [
    {
     "data": {
      "text/plain": [
       "0.53750999072126115"
      ]
     },
     "execution_count": 22,
     "metadata": {},
     "output_type": "execute_result"
    }
   ],
   "source": [
    "roc_auc_lr"
   ]
  },
  {
   "cell_type": "markdown",
   "metadata": {},
   "source": [
    "True Positive and True Negative rates are barely higher than False Positive and and False Negative rates, and the area under the roc curve is only ~4% above 50%, which suggests this model does little more than randomly guessing 1 or -1"
   ]
  }
 ],
 "metadata": {
  "anaconda-cloud": {},
  "kernelspec": {
   "display_name": "Python [default]",
   "language": "python",
   "name": "python2"
  },
  "language_info": {
   "codemirror_mode": {
    "name": "ipython",
    "version": 2
   },
   "file_extension": ".py",
   "mimetype": "text/x-python",
   "name": "python",
   "nbconvert_exporter": "python",
   "pygments_lexer": "ipython2",
   "version": "2.7.12"
  }
 },
 "nbformat": 4,
 "nbformat_minor": 1
}
