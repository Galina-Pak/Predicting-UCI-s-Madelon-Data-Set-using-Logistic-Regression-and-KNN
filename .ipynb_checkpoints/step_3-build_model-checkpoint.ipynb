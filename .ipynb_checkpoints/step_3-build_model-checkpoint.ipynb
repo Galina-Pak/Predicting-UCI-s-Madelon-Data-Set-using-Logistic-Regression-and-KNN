{
 "cells": [
  {
   "cell_type": "markdown",
   "metadata": {},
   "source": [
    "# Step 3 - Build Model"
   ]
  },
  {
   "cell_type": "markdown",
   "metadata": {},
   "source": [
    "\n",
    "### Domain and Data\n",
    "\n",
    "This project will be working with UCI's Madelon data set. The data is completly artifical, randomly labeled +1 or -1 with 500 features. Of these 500 features, 20 of them are \"real\" features and the remaining 480 are \"probes\" which add noise to the data. Of the 20 real features, there are 5 informative features, and the remaining 15 are linear combinations of the 5 informative features to add additional noise. The order of the features and patters were randomized.\n",
    "\n",
    "### Problem Statement\n",
    "\n",
    "Step 1 showed that logistic regression with no regularization predicts the labels of the data set with slightly better accuracy than a coin flip. Step 2 showed that logistic regression with a l1 norm and C=0.01 predicts the labels ~10% better than our benchmark. However, the l1 norm reduced the amount of features relevant to a single column, feature 241. Because  there are 5 \"informative\" features, a model which uses only 1 feature to predict the labels for this data set will not the most optimized.\n",
    "\n",
    "### Solution Statement\n",
    "\n",
    "This step will use feature selection: select K-best, logistic regression (with l1 norm), K Nearest Neighbors to predict the labels. Also, grid search will be used to hypertune the paramters of logistic regression and K Nearest Neighbors (as well as cross validate the set). \n",
    "\n",
    "### Metric\n",
    "\n",
    "I will use the standard classifcation metric, \"accuracy\".  IE, what percentage did the model label the the data points correctly. I will Also look at false positives, and AUC as some deeper metrics to further provide some context as I make more complex models.\n",
    "\n",
    "### Benchmark\n",
    "\n",
    "My benchmark comes from Step 1 of this project, which creates a logistic regression model with no regularization or feature selection."
   ]
  },
  {
   "cell_type": "markdown",
   "metadata": {},
   "source": [
    "## Implementation\n",
    "\n",
    "Implement the following code pipeline using the functions you write in `lib/project_5.py`."
   ]
  },
  {
   "cell_type": "markdown",
   "metadata": {},
   "source": [
    "<img src=\"assets/build_model.png\" width=\"600px\">"
   ]
  },
  {
   "cell_type": "markdown",
   "metadata": {},
   "source": [
    "#### Select K Best Pipeline"
   ]
  },
  {
   "cell_type": "code",
   "execution_count": 1,
   "metadata": {
    "collapsed": true
   },
   "outputs": [],
   "source": [
    "import pandas as pd\n",
    "from sklearn.preprocessing import StandardScaler\n",
    "from sklearn.linear_model import LogisticRegression\n",
    "from lib.project_5 import load_data_from_database, make_data_dict, general_transformer, general_model\n",
    "import numpy as np"
   ]
  },
  {
   "cell_type": "code",
   "execution_count": 2,
   "metadata": {
    "collapsed": true
   },
   "outputs": [],
   "source": [
    "#preparing data for wrapper functions\n",
    "data = load_data_from_database()\n",
    "del data['index']\n",
    "y = data['label']\n",
    "del data['label']\n",
    "X = data"
   ]
  },
  {
   "cell_type": "code",
   "execution_count": 3,
   "metadata": {
    "collapsed": true
   },
   "outputs": [],
   "source": [
    "#creating a data dictionary\n",
    "data_dict = make_data_dict(X,y)"
   ]
  },
  {
   "cell_type": "code",
   "execution_count": 4,
   "metadata": {
    "collapsed": true
   },
   "outputs": [],
   "source": [
    "#standardizing the dictionary\n",
    "data_dict_std = general_transformer(StandardScaler(),data_dict)"
   ]
  },
  {
   "cell_type": "code",
   "execution_count": 5,
   "metadata": {
    "collapsed": false
   },
   "outputs": [],
   "source": [
    "#select_k_best\n",
    "from sklearn.feature_selection import SelectKBest\n",
    "data_dict_std_selectK = general_transformer(SelectKBest(k=10),data_dict_std)"
   ]
  },
  {
   "cell_type": "code",
   "execution_count": 6,
   "metadata": {
    "collapsed": false
   },
   "outputs": [
    {
     "data": {
      "text/html": [
       "<div>\n",
       "<table border=\"1\" class=\"dataframe\">\n",
       "  <thead>\n",
       "    <tr style=\"text-align: right;\">\n",
       "      <th></th>\n",
       "      <th>scores</th>\n",
       "    </tr>\n",
       "  </thead>\n",
       "  <tbody>\n",
       "    <tr>\n",
       "      <th>feat_241</th>\n",
       "      <td>61.386110</td>\n",
       "    </tr>\n",
       "    <tr>\n",
       "      <th>feat_475</th>\n",
       "      <td>60.745620</td>\n",
       "    </tr>\n",
       "    <tr>\n",
       "      <th>feat_048</th>\n",
       "      <td>25.539078</td>\n",
       "    </tr>\n",
       "    <tr>\n",
       "      <th>feat_378</th>\n",
       "      <td>24.493360</td>\n",
       "    </tr>\n",
       "    <tr>\n",
       "      <th>feat_336</th>\n",
       "      <td>22.233552</td>\n",
       "    </tr>\n",
       "    <tr>\n",
       "      <th>feat_064</th>\n",
       "      <td>21.182336</td>\n",
       "    </tr>\n",
       "    <tr>\n",
       "      <th>feat_442</th>\n",
       "      <td>21.083091</td>\n",
       "    </tr>\n",
       "    <tr>\n",
       "      <th>feat_472</th>\n",
       "      <td>20.861572</td>\n",
       "    </tr>\n",
       "    <tr>\n",
       "      <th>feat_128</th>\n",
       "      <td>20.533043</td>\n",
       "    </tr>\n",
       "    <tr>\n",
       "      <th>feat_338</th>\n",
       "      <td>19.800707</td>\n",
       "    </tr>\n",
       "  </tbody>\n",
       "</table>\n",
       "</div>"
      ],
      "text/plain": [
       "             scores\n",
       "feat_241  61.386110\n",
       "feat_475  60.745620\n",
       "feat_048  25.539078\n",
       "feat_378  24.493360\n",
       "feat_336  22.233552\n",
       "feat_064  21.182336\n",
       "feat_442  21.083091\n",
       "feat_472  20.861572\n",
       "feat_128  20.533043\n",
       "feat_338  19.800707"
      ]
     },
     "execution_count": 6,
     "metadata": {},
     "output_type": "execute_result"
    }
   ],
   "source": [
    "#look at k-best features (10 by default)\n",
    "selectk_features = pd.DataFrame(data_dict_std_selectK['processes'][0].scores_,X.columns,columns=['scores'])\n",
    "selectk_features.sort_values(['scores'],ascending = False).head(10)"
   ]
  },
  {
   "cell_type": "markdown",
   "metadata": {},
   "source": [
    "The l1 norm regularized logistic regression showed that feat_241 was the strongest, and SelectKbest (which defaults to the ANOVA F-value to score the 10 best features) agrees with the l1 norm. However, select K best also has some other strong features (475,048...) which might provide useful in predicting the labels for each entry. "
   ]
  },
  {
   "cell_type": "markdown",
   "metadata": {},
   "source": [
    "#### Logistic Regression with GridSearch"
   ]
  },
  {
   "cell_type": "code",
   "execution_count": 7,
   "metadata": {
    "collapsed": true
   },
   "outputs": [],
   "source": [
    "from sklearn.model_selection import GridSearchCV"
   ]
  },
  {
   "cell_type": "code",
   "execution_count": 8,
   "metadata": {
    "collapsed": true
   },
   "outputs": [],
   "source": [
    "C = np.linspace(0.005,0.1,1000)\n",
    "log_params = {'C' : C,\n",
    "              'penalty':['l1','l2'],\n",
    "             }"
   ]
  },
  {
   "cell_type": "code",
   "execution_count": 9,
   "metadata": {
    "collapsed": false
   },
   "outputs": [],
   "source": [
    "data_dict_std_selectK_log = general_model(GridSearchCV(LogisticRegression(),log_params,n_jobs=-1),data_dict_std_selectK)"
   ]
  },
  {
   "cell_type": "code",
   "execution_count": 10,
   "metadata": {
    "collapsed": false
   },
   "outputs": [
    {
     "data": {
      "text/plain": [
       "[0.61268656716417913, 0.6106060606060606]"
      ]
     },
     "execution_count": 10,
     "metadata": {},
     "output_type": "execute_result"
    }
   ],
   "source": [
    "data_dict_std_selectK_log['scores']"
   ]
  },
  {
   "cell_type": "code",
   "execution_count": 22,
   "metadata": {
    "collapsed": false
   },
   "outputs": [
    {
     "data": {
      "text/plain": [
       "LogisticRegression(C=0.020405405405405405, class_weight=None, dual=False,\n",
       "          fit_intercept=True, intercept_scaling=1, max_iter=100,\n",
       "          multi_class='ovr', n_jobs=1, penalty='l1', random_state=None,\n",
       "          solver='liblinear', tol=0.0001, verbose=0, warm_start=False)"
      ]
     },
     "execution_count": 22,
     "metadata": {},
     "output_type": "execute_result"
    }
   ],
   "source": [
    "data_dict_std_selectK_log['processes'][1].best_estimator_"
   ]
  },
  {
   "cell_type": "markdown",
   "metadata": {},
   "source": [
    "Training and test scores from gridsearched logistic regression model are similar to the l1 norm. This implies that perhaps logistic regression is not a strong candidate for this data set. Indeed, in the data set description, there are many non-linear features and logistic regression works best with linear features. This should provide motivation to use another model, such as KNN"
   ]
  },
  {
   "cell_type": "code",
   "execution_count": 11,
   "metadata": {
    "collapsed": false
   },
   "outputs": [],
   "source": [
    "from sklearn.metrics import confusion_matrix\n",
    "confusion = confusion_matrix(data_dict_std_selectK_log['y_test'],data_dict_std_selectK_log['prediction'])"
   ]
  },
  {
   "cell_type": "code",
   "execution_count": 12,
   "metadata": {
    "collapsed": false
   },
   "outputs": [],
   "source": [
    "import itertools\n",
    "import numpy as np\n",
    "import matplotlib.pyplot as plt\n",
    "%matplotlib inline\n",
    "def plot_confusion_matrix(cm, classes,\n",
    "                          normalize=False,\n",
    "                          title='Confusion matrix',\n",
    "                          cmap=plt.cm.Blues):\n",
    "    \"\"\"\n",
    "    This function prints and plots the confusion matrix.\n",
    "    Normalization can be applied by setting `normalize=True`.\n",
    "    \"\"\"\n",
    "    plt.imshow(cm, interpolation='nearest', cmap=cmap)\n",
    "    plt.title(title)\n",
    "    plt.colorbar()\n",
    "    tick_marks = np.arange(len(classes))\n",
    "    plt.xticks(tick_marks, classes, rotation=45)\n",
    "    plt.yticks(tick_marks, classes)\n",
    "\n",
    "    if normalize:\n",
    "        cm = cm.astype('float') / cm.sum(axis=1)[:, np.newaxis]\n",
    "        print(\"Normalized confusion matrix\")\n",
    "    else:\n",
    "        print('Confusion matrix, without normalization')\n",
    "\n",
    "    print(cm)\n",
    "\n",
    "    thresh = cm.max() / 2.\n",
    "    for i, j in itertools.product(range(cm.shape[0]), range(cm.shape[1])):\n",
    "        plt.text(j, i, cm[i, j],\n",
    "                 horizontalalignment=\"center\",\n",
    "                 color=\"black\" if cm[i, j] > thresh else \"black\")\n",
    "\n",
    "    plt.tight_layout()\n",
    "    plt.ylabel('True label')\n",
    "    plt.xlabel('Predicted label')"
   ]
  },
  {
   "cell_type": "code",
   "execution_count": 13,
   "metadata": {
    "collapsed": false
   },
   "outputs": [
    {
     "name": "stdout",
     "output_type": "stream",
     "text": [
      "Normalized confusion matrix\n",
      "[[ 0.6006192   0.3993808 ]\n",
      " [ 0.37982196  0.62017804]]\n"
     ]
    },
    {
     "data": {
      "image/png": "[encoded data removed]",
      "text/plain": [
       "<matplotlib.figure.Figure at 0x11de6f550>"
      ]
     },
     "metadata": {},
     "output_type": "display_data"
    }
   ],
   "source": [
    "plot_confusion_matrix(confusion, classes=['1','-1'], normalize=True,\n",
    "                      title='Grid Search Logistic Regression Confusion Matrix')\n",
    "#plt.savefig('gridsearchlogistic.png', bbox_inches='tight')"
   ]
  },
  {
   "cell_type": "code",
   "execution_count": 14,
   "metadata": {
    "collapsed": false
   },
   "outputs": [
    {
     "data": {
      "text/plain": [
       "0.61039861829473319"
      ]
     },
     "execution_count": 14,
     "metadata": {},
     "output_type": "execute_result"
    }
   ],
   "source": [
    "#finding the area under the roc curve\n",
    "from sklearn.metrics import roc_curve, auc\n",
    "# roc_curve returns the false positive rate and true positive rates as the threshold changes\n",
    "# takes in the y and the predicted probabilities of the positive class from your model.\n",
    "fpr_lr, tpr_lr, _ = roc_curve(data_dict_std_selectK_log['y_test'],data_dict_std_selectK_log['prediction'])\n",
    "roc_auc_lr = auc(fpr_lr, tpr_lr)\n",
    "roc_auc_lr"
   ]
  },
  {
   "cell_type": "markdown",
   "metadata": {},
   "source": [
    "Area under the ROC is also similar to original l1 results. Same conclusion as above. Same for confusion matrix paramters "
   ]
  },
  {
   "cell_type": "markdown",
   "metadata": {},
   "source": [
    "#### KNN with gridsearch"
   ]
  },
  {
   "cell_type": "code",
   "execution_count": 15,
   "metadata": {
    "collapsed": true
   },
   "outputs": [],
   "source": [
    "from sklearn.neighbors import KNeighborsClassifier"
   ]
  },
  {
   "cell_type": "code",
   "execution_count": 16,
   "metadata": {
    "collapsed": true
   },
   "outputs": [],
   "source": [
    "n_neighbors = np.linspace(1,100,100)"
   ]
  },
  {
   "cell_type": "code",
   "execution_count": 17,
   "metadata": {
    "collapsed": false
   },
   "outputs": [],
   "source": [
    "knn_params = {'n_neighbors':n_neighbors,\n",
    "              'weights' : ['uniform','distance']}\n"
   ]
  },
  {
   "cell_type": "code",
   "execution_count": 18,
   "metadata": {
    "collapsed": false
   },
   "outputs": [
    {
     "name": "stderr",
     "output_type": "stream",
     "text": [
      "/Users/Scott/anaconda/lib/python2.7/site-packages/sklearn/externals/joblib/parallel.py:131: VisibleDeprecationWarning: using a non-integer number instead of an integer will result in an error in the future\n",
      "  return [func(*args, **kwargs) for func, args, kwargs in self.items]\n",
      "/Users/Scott/anaconda/lib/python2.7/site-packages/sklearn/externals/joblib/parallel.py:131: VisibleDeprecationWarning: using a non-integer number instead of an integer will result in an error in the future\n",
      "  return [func(*args, **kwargs) for func, args, kwargs in self.items]\n",
      "/Users/Scott/anaconda/lib/python2.7/site-packages/sklearn/externals/joblib/parallel.py:131: VisibleDeprecationWarning: using a non-integer number instead of an integer will result in an error in the future\n",
      "  return [func(*args, **kwargs) for func, args, kwargs in self.items]\n",
      "/Users/Scott/anaconda/lib/python2.7/site-packages/sklearn/externals/joblib/parallel.py:131: VisibleDeprecationWarning: using a non-integer number instead of an integer will result in an error in the future\n",
      "  return [func(*args, **kwargs) for func, args, kwargs in self.items]\n",
      "/Users/Scott/anaconda/lib/python2.7/site-packages/sklearn/externals/joblib/parallel.py:131: VisibleDeprecationWarning: using a non-integer number instead of an integer will result in an error in the future\n",
      "  return [func(*args, **kwargs) for func, args, kwargs in self.items]\n",
      "/Users/Scott/anaconda/lib/python2.7/site-packages/sklearn/externals/joblib/parallel.py:131: VisibleDeprecationWarning: using a non-integer number instead of an integer will result in an error in the future\n",
      "  return [func(*args, **kwargs) for func, args, kwargs in self.items]\n",
      "/Users/Scott/anaconda/lib/python2.7/site-packages/sklearn/externals/joblib/parallel.py:131: VisibleDeprecationWarning: using a non-integer number instead of an integer will result in an error in the future\n",
      "  return [func(*args, **kwargs) for func, args, kwargs in self.items]\n",
      "/Users/Scott/anaconda/lib/python2.7/site-packages/sklearn/externals/joblib/parallel.py:131: VisibleDeprecationWarning: using a non-integer number instead of an integer will result in an error in the future\n",
      "  return [func(*args, **kwargs) for func, args, kwargs in self.items]\n",
      "/Users/Scott/anaconda/lib/python2.7/site-packages/sklearn/externals/joblib/parallel.py:131: VisibleDeprecationWarning: using a non-integer number instead of an integer will result in an error in the future\n",
      "  return [func(*args, **kwargs) for func, args, kwargs in self.items]\n"
     ]
    }
   ],
   "source": [
    "data_dict_std_selectK_KNN = general_model(GridSearchCV(KNeighborsClassifier(),knn_params,n_jobs=-1),data_dict_std_selectK)"
   ]
  },
  {
   "cell_type": "code",
   "execution_count": 19,
   "metadata": {
    "collapsed": false
   },
   "outputs": [
    {
     "data": {
      "text/plain": [
       "[1.0, 0.86969696969696975]"
      ]
     },
     "execution_count": 19,
     "metadata": {},
     "output_type": "execute_result"
    }
   ],
   "source": [
    "data_dict_std_selectK['scores']"
   ]
  },
  {
   "cell_type": "code",
   "execution_count": 23,
   "metadata": {
    "collapsed": false
   },
   "outputs": [
    {
     "data": {
      "text/plain": [
       "KNeighborsClassifier(algorithm='auto', leaf_size=30, metric='minkowski',\n",
       "           metric_params=None, n_jobs=1, n_neighbors=6.0, p=2,\n",
       "           weights='distance')"
      ]
     },
     "execution_count": 23,
     "metadata": {},
     "output_type": "execute_result"
    }
   ],
   "source": [
    "data_dict_std_selectK_KNN['processes'][2].best_estimator_"
   ]
  },
  {
   "cell_type": "code",
   "execution_count": 25,
   "metadata": {
    "collapsed": false
   },
   "outputs": [
    {
     "data": {
      "text/plain": [
       "0.87021708574105883"
      ]
     },
     "execution_count": 25,
     "metadata": {},
     "output_type": "execute_result"
    }
   ],
   "source": [
    "fpr_lr, tpr_lr, _ = roc_curve(data_dict_std_selectK_KNN['y_test'],data_dict_std_selectK_KNN['prediction'])\n",
    "roc_auc_lr = auc(fpr_lr, tpr_lr)\n",
    "roc_auc_lr"
   ]
  },
  {
   "cell_type": "code",
   "execution_count": 26,
   "metadata": {
    "collapsed": false
   },
   "outputs": [
    {
     "name": "stdout",
     "output_type": "stream",
     "text": [
      "Normalized confusion matrix\n",
      "[[ 0.89473684  0.10526316]\n",
      " [ 0.15430267  0.84569733]]\n"
     ]
    },
    {
     "data": {
      "image/png": "[encoded data removed]",
      "text/plain": [
       "<matplotlib.figure.Figure at 0x116a61ad0>"
      ]
     },
     "metadata": {},
     "output_type": "display_data"
    }
   ],
   "source": [
    "confusion = confusion_matrix(data_dict_std_selectK_KNN['y_test'],data_dict_std_selectK_KNN['prediction'])\n",
    "plot_confusion_matrix(confusion, classes=['1','-1'], normalize=True,\n",
    "                      title='Grid Search Logistic Regression Confusion Matrix')\n",
    "#plt.savefig('gridsearchKNN.png', bbox_inches='tight')"
   ]
  },
  {
   "cell_type": "markdown",
   "metadata": {},
   "source": [
    "Training Score is perfect, and testing score is 0.87. These results are impressive, though I am worried about overfitting because of the perfect training score. Never the less, it seems KNN does much better than logistic regression. KNN has a 0.89 true positive rate and a 0.85 true negative rate, with an AUC of 0.87. "
   ]
  },
  {
   "cell_type": "code",
   "execution_count": null,
   "metadata": {
    "collapsed": true
   },
   "outputs": [],
   "source": []
  }
 ],
 "metadata": {
  "anaconda-cloud": {},
  "kernelspec": {
   "display_name": "Python [default]",
   "language": "python",
   "name": "python2"
  },
  "language_info": {
   "codemirror_mode": {
    "name": "ipython",
    "version": 2
   },
   "file_extension": ".py",
   "mimetype": "text/x-python",
   "name": "python",
   "nbconvert_exporter": "python",
   "pygments_lexer": "ipython2",
   "version": "2.7.12"
  }
 },
 "nbformat": 4,
 "nbformat_minor": 1
}
