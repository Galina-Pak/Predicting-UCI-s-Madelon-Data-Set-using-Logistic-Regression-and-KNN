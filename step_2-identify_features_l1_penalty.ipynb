{
 "cells": [
  {
   "cell_type": "markdown",
   "metadata": {},
   "source": [
    "# Step 2 - Identify Salient Features Using $\\ell1$-penalty"
   ]
  },
  {
   "cell_type": "markdown",
   "metadata": {},
   "source": [
    "\n",
    "### Domain and Data\n",
    "\n",
    "This project will be working with UCI's Madelon data set. The data is completly artifical, randomly labeled +1 or -1 with 500 features. Of these 500 features, 20 of them are \"real\" features and the remaining 480 are \"probes\" which add noise to the data. Of the 20 real features, there are 5 informative features, and the remaining 15 are linear combinations of the 5 informative features to add additional noise. The order of the features and patters were randomized.\n",
    "\n",
    "### Problem Statement\n",
    "\n",
    "Since there is so much noise in the data, some feature selection will be required to build a strong model. Using all the features in logistic regression has already shown that without feature selection, logistic regression is not much better than a coin flip.\n",
    "\n",
    "### Solution Statement\n",
    "\n",
    "In this part of the project, I will use the l1 norm with C=0.01 to remove non informative features in the data set.\n",
    "\n",
    "### Metric\n",
    "\n",
    "I will use the standard classifcation metric, \"accuracy\".  IE, what percentage did the model label the the data points correctly. I will Also look at false positives, and AUC as some deeper metrics to further provide some context as I make more complex models.\n",
    "\n",
    "### Benchmark\n",
    "\n",
    "My benchmark comes from Step 1 of this project, which creates a logistic regression model with no regularization or feature selection."
   ]
  },
  {
   "cell_type": "markdown",
   "metadata": {},
   "source": [
    "## Implementation\n",
    "\n",
    "Implement the following code pipeline using the functions you write in `lib/project_5.py`."
   ]
  },
  {
   "cell_type": "markdown",
   "metadata": {},
   "source": [
    "<img src=\"assets/identify_features.png\" width=\"600px\">"
   ]
  },
  {
   "cell_type": "code",
   "execution_count": 1,
   "metadata": {
    "collapsed": true
   },
   "outputs": [],
   "source": [
    "import pandas as pd\n",
    "from sklearn.preprocessing import StandardScaler\n",
    "from sklearn.linear_model import LogisticRegression\n",
    "from lib.project_5 import load_data_from_database, make_data_dict, general_transformer, general_model"
   ]
  },
  {
   "cell_type": "code",
   "execution_count": 2,
   "metadata": {
    "collapsed": true
   },
   "outputs": [],
   "source": [
    "#preparing data for wrapper functions\n",
    "data = load_data_from_database()\n",
    "del data['index']\n",
    "y = data['label']\n",
    "del data['label']\n",
    "X = data"
   ]
  },
  {
   "cell_type": "code",
   "execution_count": 3,
   "metadata": {
    "collapsed": true
   },
   "outputs": [],
   "source": [
    "#creating a data dictionary\n",
    "data_dict = make_data_dict(X,y)"
   ]
  },
  {
   "cell_type": "code",
   "execution_count": 4,
   "metadata": {
    "collapsed": true
   },
   "outputs": [],
   "source": [
    "#standardizing the dictionary\n",
    "data_dict_standard = general_transformer(StandardScaler(),data_dict)"
   ]
  },
  {
   "cell_type": "code",
   "execution_count": 5,
   "metadata": {
    "collapsed": true
   },
   "outputs": [],
   "source": [
    "#running logistic regression, penalty =l1 and C = 0.01\n",
    "data_dict_standard_logisitic = general_model(LogisticRegression(penalty = 'l1',C = 0.01,solver='liblinear',fit_intercept=True),data_dict_standard)"
   ]
  },
  {
   "cell_type": "code",
   "execution_count": 6,
   "metadata": {
    "collapsed": false
   },
   "outputs": [
    {
     "data": {
      "text/plain": [
       "[0.61044776119402988, 0.62121212121212122]"
      ]
     },
     "execution_count": 6,
     "metadata": {},
     "output_type": "execute_result"
    }
   ],
   "source": [
    "#Looking at scores\n",
    "data_dict_standard_logisitic['scores']"
   ]
  },
  {
   "cell_type": "markdown",
   "metadata": {},
   "source": [
    "A training score of 61% and a testing score of 0.62. This is better than our benchmark, which had a testing score of 0.537. However, since the training score is low, Perhaps this model is underfit."
   ]
  },
  {
   "cell_type": "code",
   "execution_count": 16,
   "metadata": {
    "collapsed": false
   },
   "outputs": [
    {
     "data": {
      "text/html": [
       "<div>\n",
       "<table border=\"1\" class=\"dataframe\">\n",
       "  <thead>\n",
       "    <tr style=\"text-align: right;\">\n",
       "      <th></th>\n",
       "      <th>coef</th>\n",
       "    </tr>\n",
       "  </thead>\n",
       "  <tbody>\n",
       "    <tr>\n",
       "      <th>feat_241</th>\n",
       "      <td>0.120658</td>\n",
       "    </tr>\n",
       "    <tr>\n",
       "      <th>feat_000</th>\n",
       "      <td>0.000000</td>\n",
       "    </tr>\n",
       "    <tr>\n",
       "      <th>feat_329</th>\n",
       "      <td>0.000000</td>\n",
       "    </tr>\n",
       "    <tr>\n",
       "      <th>feat_342</th>\n",
       "      <td>0.000000</td>\n",
       "    </tr>\n",
       "    <tr>\n",
       "      <th>feat_341</th>\n",
       "      <td>0.000000</td>\n",
       "    </tr>\n",
       "  </tbody>\n",
       "</table>\n",
       "</div>"
      ],
      "text/plain": [
       "              coef\n",
       "feat_241  0.120658\n",
       "feat_000  0.000000\n",
       "feat_329  0.000000\n",
       "feat_342  0.000000\n",
       "feat_341  0.000000"
      ]
     },
     "execution_count": 16,
     "metadata": {},
     "output_type": "execute_result"
    }
   ],
   "source": [
    "#looking at coefficents from l1 norm regularization\n",
    "l1_features = pd.DataFrame(data_dict_standard_logisitic['processes'][1].coef_[0],X.columns,columns=['coef'])\n",
    "l1_features.sort_values(['coef'],ascending = False).head()"
   ]
  },
  {
   "cell_type": "markdown",
   "metadata": {},
   "source": [
    "Above are the 5 strongest features in the data set. As you can see, the only non-zero coefficent corresponds to feat_241."
   ]
  },
  {
   "cell_type": "markdown",
   "metadata": {},
   "source": [
    "Confusion Matrix / ROC AUC"
   ]
  },
  {
   "cell_type": "code",
   "execution_count": 8,
   "metadata": {
    "collapsed": true
   },
   "outputs": [],
   "source": [
    "from sklearn.metrics import confusion_matrix\n",
    "confusion = confusion_matrix(data_dict_standard_logisitic['y_test'],data_dict_standard_logisitic['prediction'])"
   ]
  },
  {
   "cell_type": "code",
   "execution_count": 9,
   "metadata": {
    "collapsed": false
   },
   "outputs": [],
   "source": [
    "import itertools\n",
    "import numpy as np\n",
    "import matplotlib.pyplot as plt\n",
    "%matplotlib inline\n",
    "def plot_confusion_matrix(cm, classes,\n",
    "                          normalize=False,\n",
    "                          title='Confusion matrix',\n",
    "                          cmap=plt.cm.Blues):\n",
    "    \"\"\"\n",
    "    This function prints and plots the confusion matrix.\n",
    "    Normalization can be applied by setting `normalize=True`.\n",
    "    \"\"\"\n",
    "    plt.imshow(cm, interpolation='nearest', cmap=cmap)\n",
    "    plt.title(title)\n",
    "    plt.colorbar()\n",
    "    tick_marks = np.arange(len(classes))\n",
    "    plt.xticks(tick_marks, classes, rotation=45)\n",
    "    plt.yticks(tick_marks, classes)\n",
    "\n",
    "    if normalize:\n",
    "        cm = cm.astype('float') / cm.sum(axis=1)[:, np.newaxis]\n",
    "        print(\"Normalized confusion matrix\")\n",
    "    else:\n",
    "        print('Confusion matrix, without normalization')\n",
    "\n",
    "    print(cm)\n",
    "\n",
    "    thresh = cm.max() / 2.\n",
    "    for i, j in itertools.product(range(cm.shape[0]), range(cm.shape[1])):\n",
    "        plt.text(j, i, cm[i, j],\n",
    "                 horizontalalignment=\"center\",\n",
    "                 color=\"black\" if cm[i, j] > thresh else \"black\")\n",
    "\n",
    "    plt.tight_layout()\n",
    "    plt.ylabel('True label')\n",
    "    plt.xlabel('Predicted label')"
   ]
  },
  {
   "cell_type": "code",
   "execution_count": 11,
   "metadata": {
    "collapsed": false
   },
   "outputs": [
    {
     "name": "stdout",
     "output_type": "stream",
     "text": [
      "Normalized confusion matrix\n",
      "[[ 0.60371517  0.39628483]\n",
      " [ 0.3620178   0.6379822 ]]\n"
     ]
    },
    {
     "data": {
      "image/png": "[encoded data removed]",
      "text/plain": [
       "<matplotlib.figure.Figure at 0x115fe7850>"
      ]
     },
     "metadata": {},
     "output_type": "display_data"
    }
   ],
   "source": [
    "plot_confusion_matrix(confusion, classes=['1','-1'], normalize=True,\n",
    "                      title='l1 norm Confusion Matrix')\n",
    "#plt.savefig('l1norm.png', bbox_inches='tight')"
   ]
  },
  {
   "cell_type": "code",
   "execution_count": 12,
   "metadata": {
    "collapsed": false
   },
   "outputs": [
    {
     "data": {
      "text/plain": [
       "0.62084868306216756"
      ]
     },
     "execution_count": 12,
     "metadata": {},
     "output_type": "execute_result"
    }
   ],
   "source": [
    "#finding the area under the roc curve\n",
    "from sklearn.metrics import roc_curve, auc\n",
    "# roc_curve returns the false positive rate and true positive rates as the threshold changes\n",
    "# takes in the y and the predicted probabilities of the positive class from your model.\n",
    "fpr_lr, tpr_lr, _ = roc_curve(data_dict_standard_logisitic['y_test'],data_dict_standard_logisitic['prediction'])\n",
    "roc_auc_lr = auc(fpr_lr, tpr_lr)\n",
    "roc_auc_lr"
   ]
  },
  {
   "cell_type": "markdown",
   "metadata": {},
   "source": [
    "l1 norm regularized logistic regression performed much better than the benchmark model. With a True Positive and True Negative rate of 0.60 and 0.64 respectively, this model is much more predictive the bench mark model which had a 0.52 and 0.54 True Positive and True Negative rate. "
   ]
  }
 ],
 "metadata": {
  "anaconda-cloud": {},
  "kernelspec": {
   "display_name": "Python [default]",
   "language": "python",
   "name": "python2"
  },
  "language_info": {
   "codemirror_mode": {
    "name": "ipython",
    "version": 2
   },
   "file_extension": ".py",
   "mimetype": "text/x-python",
   "name": "python",
   "nbconvert_exporter": "python",
   "pygments_lexer": "ipython2",
   "version": "2.7.12"
  }
 },
 "nbformat": 4,
 "nbformat_minor": 1
}
